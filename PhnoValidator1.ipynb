{
 "cells": [
  {
   "cell_type": "code",
   "execution_count": null,
   "id": "a66f9ceb-ed64-4f53-893b-d8a5b45fb898",
   "metadata": {},
   "outputs": [],
   "source": [
    "import requests\n",
    "import pandas as pd\n",
    "\n",
    "df1 = pd.read_csv('../sample_1_db_email_and_phone.csv')\n",
    "\n",
    "df2 = pd.read_excel('sample_1_all_files_email_and_phone.xlsx')\n",
    "\n",
    "list1 = [df1,df2]\n",
    "\n",
    "df_concat = pd.concat(list1)\n",
    "\n",
    "df_concat.shape\n",
    "\n",
    "phone_numbers = []\n",
    "for i in df_concat['phone']:\n",
    "    a = (i).split(',')\n",
    "    # print(len(a))\n",
    "    for j in range(0,len(a)):\n",
    "        phone_numbers.append(a[j].replace('[','').replace(']','').replace(\"'\",''))\n",
    "\n",
    "\n",
    "import phonenumbers\n",
    "\n",
    "def get_number_type(phone_number):\n",
    "    try:\n",
    "        parsed_number = phonenumbers.parse(phone_number, 'US')\n",
    "        if phonenumbers.is_possible_number(parsed_number) and \\\n",
    "           phonenumbers.is_valid_number(parsed_number):\n",
    "            number_type = phonenumbers.number_type(parsed_number)\n",
    "            if number_type == phonenumbers.PhoneNumberType.MOBILE or \\\n",
    "            number_type == phonenumbers.PhoneNumberType.FIXED_LINE_OR_MOBILE:\n",
    "                return \"Mobile number\"\n",
    "            elif number_type == phonenumbers.PhoneNumberType.FIXED_LINE:\n",
    "                return \"Fixed line number\"\n",
    "            elif number_type == phonenumbers.PhoneNumberType.VOIP:\n",
    "                return \"VoIP number\"\n",
    "            elif number_type == phonenumbers.PhoneNumberType.UAN or \\\n",
    "                number_type == phonenumbers.PhoneNumberType.PREMIUM_RATE or \\\n",
    "                number_type == phonenumbers.PhoneNumberType.SHARED_COST: \n",
    "                return \"Wireless number\"\n",
    "            else:\n",
    "                return \"Other type of number\"\n",
    "        else:\n",
    "            return \"Invalid phone number\"\n",
    "    except phonenumbers.phonenumberutil.NumberParseException:\n",
    "        return \"Unrecognized phone number\"\n",
    "\n",
    "# number = \"+2039057801\"\n",
    "\n",
    "for number in phone_numbers:\n",
    "    number_type = get_number_type(number)\n",
    "    print(number_type)"
   ]
  }
 ],
 "metadata": {
  "kernelspec": {
   "display_name": "Python 3 (ipykernel)",
   "language": "python",
   "name": "python3"
  },
  "language_info": {
   "codemirror_mode": {
    "name": "ipython",
    "version": 3
   },
   "file_extension": ".py",
   "mimetype": "text/x-python",
   "name": "python",
   "nbconvert_exporter": "python",
   "pygments_lexer": "ipython3",
   "version": "3.11.3"
  }
 },
 "nbformat": 4,
 "nbformat_minor": 5
}
